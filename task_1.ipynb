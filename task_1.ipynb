{
  "nbformat": 4,
  "nbformat_minor": 0,
  "metadata": {
    "colab": {
      "provenance": []
    },
    "kernelspec": {
      "name": "python3",
      "display_name": "Python 3"
    },
    "language_info": {
      "name": "python"
    }
  },
  "cells": [
    {
      "cell_type": "code",
      "execution_count": 1,
      "metadata": {
        "id": "f_tIxg_o7Fxj"
      },
      "outputs": [],
      "source": [
        "import math"
      ]
    },
    {
      "cell_type": "code",
      "source": [
        "a = 5\n",
        "b = 2\n",
        "print(a + b) # сложение\n",
        "print(a - b) # вычитание\n",
        "print(a * b) # умножение\n",
        "print(a / b) # деление"
      ],
      "metadata": {
        "colab": {
          "base_uri": "https://localhost:8080/"
        },
        "id": "tDrlhrxz7VkV",
        "outputId": "d1cb4299-95a2-4417-f7ea-565d00134eb5"
      },
      "execution_count": 2,
      "outputs": [
        {
          "output_type": "stream",
          "name": "stdout",
          "text": [
            "7\n",
            "3\n",
            "10\n",
            "2.5\n"
          ]
        }
      ]
    },
    {
      "cell_type": "code",
      "source": [
        "a = 5\n",
        "b = 2\n",
        "print(a > b) # больше\n",
        "print(a < b) # меньше\n",
        "print(a == b) # равно\n",
        "print(a != b) # не равно"
      ],
      "metadata": {
        "colab": {
          "base_uri": "https://localhost:8080/"
        },
        "id": "ONJpBEhy8kK2",
        "outputId": "cad65ef0-9014-45f0-8648-eec7504ed671"
      },
      "execution_count": 3,
      "outputs": [
        {
          "output_type": "stream",
          "name": "stdout",
          "text": [
            "True\n",
            "False\n",
            "False\n",
            "True\n"
          ]
        }
      ]
    },
    {
      "cell_type": "code",
      "source": [
        "print(\"Hello, World! My name is Vitalina Виссарионовна\") # вывод строки\n",
        "x = input(\"Введите число: \") # ввод данных\n",
        "print(f'Вы ввели число {x}') # вывод строки с переменной"
      ],
      "metadata": {
        "colab": {
          "base_uri": "https://localhost:8080/"
        },
        "id": "hrEGimzU8vXV",
        "outputId": "abf49ec3-293f-4f8f-b0cb-ba96ce8fc2c1"
      },
      "execution_count": 4,
      "outputs": [
        {
          "output_type": "stream",
          "name": "stdout",
          "text": [
            "Hello, World! My name is Vitalina Makushina\n",
            "Введите число: 10\n",
            "Вы ввели число 10\n"
          ]
        }
      ]
    }
  ]
}