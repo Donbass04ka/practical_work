{
  "nbformat": 4,
  "nbformat_minor": 0,
  "metadata": {
    "colab": {
      "provenance": []
    },
    "kernelspec": {
      "name": "python3",
      "display_name": "Python 3"
    },
    "language_info": {
      "name": "python"
    }
  },
  "cells": [
    {
      "cell_type": "code",
      "execution_count": 2,
      "metadata": {
        "id": "oiIxMDZOFiSx"
      },
      "outputs": [],
      "source": [
        "import os\n",
        "os.environ['TF_CPP_MIN_LOG_LEVEL'] = '2' # отключение отображения предупреждений"
      ]
    },
    {
      "cell_type": "code",
      "source": [
        "# импорт других библиотек\n",
        "import numpy as np\n",
        "import matplotlib.pyplot as plt\n",
        "from tensorflow import keras\n",
        "from tensorflow.keras.layers import Dense"
      ],
      "metadata": {
        "id": "3bpKUv6vHvZC"
      },
      "execution_count": 3,
      "outputs": []
    },
    {
      "cell_type": "code",
      "source": [
        "# задаём обучающие списки (с - Цельсия, f - Фаренгейта)\n",
        "c = np.array([-40, -10, 0, 8, 15, 22, 38])\n",
        "f = np.array([-40, 14, 32, 46, 59, 72, 100])"
      ],
      "metadata": {
        "id": "DjVp_66pIkML"
      },
      "execution_count": 4,
      "outputs": []
    },
    {
      "cell_type": "code",
      "source": [
        "# определение модели\n",
        "model = keras.Sequential()\n",
        "# добавление слоя нейронов\n",
        "model.add(Dense(units = 1, input_shape=(1,), activation='linear'))\n",
        "# выбираем минимум среднего квадрата и оптимизируем по Adam (компиляция нейронной сети)\n",
        "model.compile(loss='mean_squared_error', optimizer=keras.optimizers.Adam(0.1))"
      ],
      "metadata": {
        "id": "WjqUcmEHJMCj"
      },
      "execution_count": 6,
      "outputs": []
    },
    {
      "cell_type": "code",
      "source": [
        "# обучение модели\n",
        "history = model.fit(c, f, epochs=500, verbose=0)\n",
        "print(\"Обучение завершено\")"
      ],
      "metadata": {
        "colab": {
          "base_uri": "https://localhost:8080/"
        },
        "id": "vEu1LPtqJYUx",
        "outputId": "db989e3e-a540-4873-cdca-23653614cc0a"
      },
      "execution_count": 7,
      "outputs": [
        {
          "output_type": "stream",
          "name": "stdout",
          "text": [
            "Обучение завершено\n"
          ]
        }
      ]
    },
    {
      "cell_type": "code",
      "source": [
        "# берутся значения критерия качества (функция потерь (loss))\n",
        "plt.plot(history.history['loss'])\n",
        "plt.grid(True)\n",
        "plt.show()"
      ],
      "metadata": {
        "colab": {
          "base_uri": "https://localhost:8080/",
          "height": 430
        },
        "id": "PvnkLUDSM9FX",
        "outputId": "ad43b6b2-5681-417e-9d31-6281d06da79d"
      },
      "execution_count": 8,
      "outputs": [
        {
          "output_type": "display_data",
          "data": {
            "text/plain": [
              "<Figure size 640x480 with 1 Axes>"
            ],
            "image/png": "[encoded data removed]"
          },
          "metadata": {}
        }
      ]
    },
    {
      "cell_type": "code",
      "source": [
        "# предсказание модели\n",
        "print(model.predict([100]))\n",
        "print('-'*50)\n",
        "# весовые коэффициенты модели\n",
        "print(model.get_weights())"
      ],
      "metadata": {
        "colab": {
          "base_uri": "https://localhost:8080/"
        },
        "id": "iRP28PqUS_GI",
        "outputId": "1c78d3b3-db7b-4985-a6a6-be96b81b4227"
      },
      "execution_count": 9,
      "outputs": [
        {
          "output_type": "stream",
          "name": "stdout",
          "text": [
            "1/1 [==============================] - 0s 119ms/step\n",
            "[[211.33397]]\n",
            "--------------------------------------------------\n",
            "[array([[1.8211645]], dtype=float32), array([29.21752], dtype=float32)]\n"
          ]
        }
      ]
    },
    {
      "cell_type": "code",
      "source": [],
      "metadata": {
        "id": "rwbZCmYxM9Ie"
      },
      "execution_count": null,
      "outputs": []
    },
    {
      "cell_type": "code",
      "source": [],
      "metadata": {
        "id": "873U61gEM9Ly"
      },
      "execution_count": null,
      "outputs": []
    },
    {
      "cell_type": "code",
      "source": [],
      "metadata": {
        "id": "7LIM64lTM9PH"
      },
      "execution_count": null,
      "outputs": []
    },
    {
      "cell_type": "code",
      "source": [],
      "metadata": {
        "id": "SY4immKqM9Ru"
      },
      "execution_count": null,
      "outputs": []
    },
    {
      "cell_type": "code",
      "source": [],
      "metadata": {
        "id": "I7rT2XUqM9UU"
      },
      "execution_count": null,
      "outputs": []
    }
  ]
}